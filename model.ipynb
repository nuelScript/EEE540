{
 "cells": [
  {
   "cell_type": "code",
   "execution_count": 105,
   "metadata": {},
   "outputs": [],
   "source": [
    "import tensorflow as tf\n",
    "import pandas as pd\n",
    "from sklearn.model_selection import train_test_split"
   ]
  },
  {
   "cell_type": "code",
   "execution_count": 106,
   "metadata": {},
   "outputs": [
    {
     "name": "stdout",
     "output_type": "stream",
     "text": [
      "                  created_at  entry_id  Temperature  Humidity  Ethanol (Gas)  \\\n",
      "0  2022-06-11T15:53:46+00:00         1         34.2      81.6          425.0   \n",
      "1  2022-06-11T15:54:39+00:00         2         34.3      83.8          425.0   \n",
      "2  2022-06-11T15:55:22+00:00         3         34.4      84.6          429.0   \n",
      "3  2022-06-11T15:55:55+00:00         4         34.4      85.7          438.0   \n",
      "4  2022-06-11T15:56:28+00:00         5         34.5      85.6          424.0   \n",
      "\n",
      "  Type of Fruit  \n",
      "0        Banana  \n",
      "1        Banana  \n",
      "2        Banana  \n",
      "3        Banana  \n",
      "4        Banana  \n"
     ]
    }
   ],
   "source": [
    "df = pd.read_csv('banana_dataset.csv')\n",
    "print(df.head())"
   ]
  },
  {
   "cell_type": "code",
   "execution_count": 107,
   "metadata": {},
   "outputs": [],
   "source": [
    "def synthesize_ethylene(gas):\n",
    "    ethylene_baseline = 50\n",
    "    ethylene_increase_rate = 0.5\n",
    "    peak_gas = 350\n",
    "    decline_rate = 0.1\n",
    "    \n",
    "    if gas < peak_gas:\n",
    "        return ethylene_baseline + (gas * ethylene_increase_rate)\n",
    "    else:\n",
    "        return ethylene_baseline + (peak_gas * ethylene_increase_rate) - ((gas - peak_gas) * decline_rate)\n"
   ]
  },
  {
   "cell_type": "code",
   "execution_count": 108,
   "metadata": {},
   "outputs": [
    {
     "data": {
      "text/html": [
       "<div>\n",
       "<style scoped>\n",
       "    .dataframe tbody tr th:only-of-type {\n",
       "        vertical-align: middle;\n",
       "    }\n",
       "\n",
       "    .dataframe tbody tr th {\n",
       "        vertical-align: top;\n",
       "    }\n",
       "\n",
       "    .dataframe thead th {\n",
       "        text-align: right;\n",
       "    }\n",
       "</style>\n",
       "<table border=\"1\" class=\"dataframe\">\n",
       "  <thead>\n",
       "    <tr style=\"text-align: right;\">\n",
       "      <th></th>\n",
       "      <th>created_at</th>\n",
       "      <th>entry_id</th>\n",
       "      <th>Temperature</th>\n",
       "      <th>Humidity</th>\n",
       "      <th>Ethanol (Gas)</th>\n",
       "      <th>Type of Fruit</th>\n",
       "      <th>Ethylene</th>\n",
       "    </tr>\n",
       "  </thead>\n",
       "  <tbody>\n",
       "    <tr>\n",
       "      <th>0</th>\n",
       "      <td>2022-06-11T15:53:46+00:00</td>\n",
       "      <td>1</td>\n",
       "      <td>34.2</td>\n",
       "      <td>81.6</td>\n",
       "      <td>425.0</td>\n",
       "      <td>Banana</td>\n",
       "      <td>217.5</td>\n",
       "    </tr>\n",
       "    <tr>\n",
       "      <th>1</th>\n",
       "      <td>2022-06-11T15:54:39+00:00</td>\n",
       "      <td>2</td>\n",
       "      <td>34.3</td>\n",
       "      <td>83.8</td>\n",
       "      <td>425.0</td>\n",
       "      <td>Banana</td>\n",
       "      <td>217.5</td>\n",
       "    </tr>\n",
       "    <tr>\n",
       "      <th>2</th>\n",
       "      <td>2022-06-11T15:55:22+00:00</td>\n",
       "      <td>3</td>\n",
       "      <td>34.4</td>\n",
       "      <td>84.6</td>\n",
       "      <td>429.0</td>\n",
       "      <td>Banana</td>\n",
       "      <td>217.1</td>\n",
       "    </tr>\n",
       "    <tr>\n",
       "      <th>3</th>\n",
       "      <td>2022-06-11T15:55:55+00:00</td>\n",
       "      <td>4</td>\n",
       "      <td>34.4</td>\n",
       "      <td>85.7</td>\n",
       "      <td>438.0</td>\n",
       "      <td>Banana</td>\n",
       "      <td>216.2</td>\n",
       "    </tr>\n",
       "    <tr>\n",
       "      <th>4</th>\n",
       "      <td>2022-06-11T15:56:28+00:00</td>\n",
       "      <td>5</td>\n",
       "      <td>34.5</td>\n",
       "      <td>85.6</td>\n",
       "      <td>424.0</td>\n",
       "      <td>Banana</td>\n",
       "      <td>217.6</td>\n",
       "    </tr>\n",
       "    <tr>\n",
       "      <th>...</th>\n",
       "      <td>...</td>\n",
       "      <td>...</td>\n",
       "      <td>...</td>\n",
       "      <td>...</td>\n",
       "      <td>...</td>\n",
       "      <td>...</td>\n",
       "      <td>...</td>\n",
       "    </tr>\n",
       "    <tr>\n",
       "      <th>2240</th>\n",
       "      <td>2022-06-29T14:27:19+00:00</td>\n",
       "      <td>2241</td>\n",
       "      <td>34.9</td>\n",
       "      <td>96.4</td>\n",
       "      <td>290.0</td>\n",
       "      <td>Banana</td>\n",
       "      <td>195.0</td>\n",
       "    </tr>\n",
       "    <tr>\n",
       "      <th>2241</th>\n",
       "      <td>2022-06-29T14:27:53+00:00</td>\n",
       "      <td>2242</td>\n",
       "      <td>35.1</td>\n",
       "      <td>95.8</td>\n",
       "      <td>292.0</td>\n",
       "      <td>Banana</td>\n",
       "      <td>196.0</td>\n",
       "    </tr>\n",
       "    <tr>\n",
       "      <th>2242</th>\n",
       "      <td>2022-06-29T14:28:26+00:00</td>\n",
       "      <td>2243</td>\n",
       "      <td>35.2</td>\n",
       "      <td>95.3</td>\n",
       "      <td>299.0</td>\n",
       "      <td>Banana</td>\n",
       "      <td>199.5</td>\n",
       "    </tr>\n",
       "    <tr>\n",
       "      <th>2243</th>\n",
       "      <td>2022-06-29T14:29:00+00:00</td>\n",
       "      <td>2244</td>\n",
       "      <td>35.5</td>\n",
       "      <td>94.8</td>\n",
       "      <td>312.0</td>\n",
       "      <td>Banana</td>\n",
       "      <td>206.0</td>\n",
       "    </tr>\n",
       "    <tr>\n",
       "      <th>2244</th>\n",
       "      <td>2022-06-29T14:29:33+00:00</td>\n",
       "      <td>2245</td>\n",
       "      <td>35.6</td>\n",
       "      <td>94.3</td>\n",
       "      <td>321.0</td>\n",
       "      <td>Banana</td>\n",
       "      <td>210.5</td>\n",
       "    </tr>\n",
       "  </tbody>\n",
       "</table>\n",
       "<p>2245 rows × 7 columns</p>\n",
       "</div>"
      ],
      "text/plain": [
       "                     created_at  entry_id  Temperature  Humidity  \\\n",
       "0     2022-06-11T15:53:46+00:00         1         34.2      81.6   \n",
       "1     2022-06-11T15:54:39+00:00         2         34.3      83.8   \n",
       "2     2022-06-11T15:55:22+00:00         3         34.4      84.6   \n",
       "3     2022-06-11T15:55:55+00:00         4         34.4      85.7   \n",
       "4     2022-06-11T15:56:28+00:00         5         34.5      85.6   \n",
       "...                         ...       ...          ...       ...   \n",
       "2240  2022-06-29T14:27:19+00:00      2241         34.9      96.4   \n",
       "2241  2022-06-29T14:27:53+00:00      2242         35.1      95.8   \n",
       "2242  2022-06-29T14:28:26+00:00      2243         35.2      95.3   \n",
       "2243  2022-06-29T14:29:00+00:00      2244         35.5      94.8   \n",
       "2244  2022-06-29T14:29:33+00:00      2245         35.6      94.3   \n",
       "\n",
       "      Ethanol (Gas) Type of Fruit  Ethylene  \n",
       "0             425.0        Banana     217.5  \n",
       "1             425.0        Banana     217.5  \n",
       "2             429.0        Banana     217.1  \n",
       "3             438.0        Banana     216.2  \n",
       "4             424.0        Banana     217.6  \n",
       "...             ...           ...       ...  \n",
       "2240          290.0        Banana     195.0  \n",
       "2241          292.0        Banana     196.0  \n",
       "2242          299.0        Banana     199.5  \n",
       "2243          312.0        Banana     206.0  \n",
       "2244          321.0        Banana     210.5  \n",
       "\n",
       "[2245 rows x 7 columns]"
      ]
     },
     "execution_count": 108,
     "metadata": {},
     "output_type": "execute_result"
    }
   ],
   "source": [
    "df['Ethylene'] = df['Ethanol (Gas)'].apply(synthesize_ethylene)\n",
    "df"
   ]
  },
  {
   "cell_type": "code",
   "execution_count": 109,
   "metadata": {},
   "outputs": [
    {
     "name": "stdout",
     "output_type": "stream",
     "text": [
      "<class 'pandas.core.frame.DataFrame'>\n",
      "RangeIndex: 2245 entries, 0 to 2244\n",
      "Data columns (total 7 columns):\n",
      " #   Column         Non-Null Count  Dtype  \n",
      "---  ------         --------------  -----  \n",
      " 0   created_at     2245 non-null   object \n",
      " 1   entry_id       2245 non-null   int64  \n",
      " 2   Temperature    2245 non-null   float64\n",
      " 3   Humidity       2245 non-null   float64\n",
      " 4   Ethanol (Gas)  2231 non-null   float64\n",
      " 5   Type of Fruit  2245 non-null   object \n",
      " 6   Ethylene       2231 non-null   float64\n",
      "dtypes: float64(4), int64(1), object(2)\n",
      "memory usage: 122.9+ KB\n"
     ]
    }
   ],
   "source": [
    "df.info()"
   ]
  },
  {
   "cell_type": "code",
   "execution_count": 110,
   "metadata": {},
   "outputs": [],
   "source": [
    "df[\"Grade\"] = [0 for i in range (2245)]\n",
    "\n",
    "# Grade 1: Unripe\n",
    "df.loc[(df['Ethylene'] < 130) & (df['Ethanol (Gas)'] < 130), 'Grade'] = 1\n",
    "\n",
    "# Grade 2: Ripe (perfect to eat)\n",
    "df.loc[((df['Ethylene'] >= 130) & (df['Ethylene'] < 180)) & ((df['Ethanol (Gas)'] >= 130) & (df['Ethanol (Gas)'] < 210)), 'Grade'] = 2\n",
    "\n",
    "# Grade 3: Over ripe\n",
    "df.loc[((df['Ethylene'] >= 180) & (df['Ethylene'] < 200)) & ((df['Ethanol (Gas)'] >= 210) & (df['Ethanol (Gas)'] < 360)), 'Grade'] = 3\n",
    "\n",
    "# Grade 4: Rotting stage\n",
    "df.loc[(df['Ethylene'] >= 200) | (df['Ethanol (Gas)'] >= 360), 'Grade'] = 4"
   ]
  },
  {
   "cell_type": "code",
   "execution_count": 111,
   "metadata": {},
   "outputs": [],
   "source": [
    "df_drop = df.drop(['created_at','entry_id' ], axis=1)"
   ]
  },
  {
   "cell_type": "code",
   "execution_count": 112,
   "metadata": {},
   "outputs": [],
   "source": [
    "df_new = df_drop.dropna()"
   ]
  },
  {
   "cell_type": "code",
   "execution_count": 113,
   "metadata": {},
   "outputs": [
    {
     "name": "stdout",
     "output_type": "stream",
     "text": [
      "<class 'pandas.core.frame.DataFrame'>\n",
      "Index: 2231 entries, 0 to 2244\n",
      "Data columns (total 6 columns):\n",
      " #   Column         Non-Null Count  Dtype  \n",
      "---  ------         --------------  -----  \n",
      " 0   Temperature    2231 non-null   float64\n",
      " 1   Humidity       2231 non-null   float64\n",
      " 2   Ethanol (Gas)  2231 non-null   float64\n",
      " 3   Type of Fruit  2231 non-null   object \n",
      " 4   Ethylene       2231 non-null   float64\n",
      " 5   Grade          2231 non-null   int64  \n",
      "dtypes: float64(4), int64(1), object(1)\n",
      "memory usage: 122.0+ KB\n"
     ]
    }
   ],
   "source": [
    "df_new.info()"
   ]
  },
  {
   "cell_type": "code",
   "execution_count": 114,
   "metadata": {},
   "outputs": [],
   "source": [
    "X = df_new[['Ethanol (Gas)', 'Ethylene']]\n",
    "y = df_new['Grade'].values"
   ]
  },
  {
   "cell_type": "code",
   "execution_count": 115,
   "metadata": {},
   "outputs": [
    {
     "name": "stderr",
     "output_type": "stream",
     "text": [
      "c:\\Users\\USER\\anaconda3\\Lib\\site-packages\\keras\\src\\layers\\core\\dense.py:86: UserWarning: Do not pass an `input_shape`/`input_dim` argument to a layer. When using Sequential models, prefer using an `Input(shape)` object as the first layer in the model instead.\n",
      "  super().__init__(activity_regularizer=activity_regularizer, **kwargs)\n"
     ]
    }
   ],
   "source": [
    "X_train, X_test, y_train, y_test = train_test_split(X, y, test_size=0.3, random_state=101)\n",
    "model = tf.keras.Sequential([\n",
    "    tf.keras.layers.Dense(1, activation=\"sigmoid\", input_shape=(5,))\n",
    "])"
   ]
  },
  {
   "cell_type": "code",
   "execution_count": 116,
   "metadata": {},
   "outputs": [],
   "source": [
    "model.compile(optimizer='rmsprop', loss=\"binary_crossentropy\", metrics=['accuracy'])"
   ]
  },
  {
   "cell_type": "code",
   "execution_count": 117,
   "metadata": {},
   "outputs": [
    {
     "name": "stdout",
     "output_type": "stream",
     "text": [
      "Epoch 1/50\n"
     ]
    },
    {
     "ename": "ValueError",
     "evalue": "Exception encountered when calling Sequential.call().\n\n\u001b[1mInput 0 of layer \"dense_3\" is incompatible with the layer: expected axis -1 of input shape to have value 6, but received input with shape (None, 2)\u001b[0m\n\nArguments received by Sequential.call():\n  • inputs=tf.Tensor(shape=(None, 2), dtype=float32)\n  • training=True\n  • mask=None",
     "output_type": "error",
     "traceback": [
      "\u001b[1;31m---------------------------------------------------------------------------\u001b[0m",
      "\u001b[1;31mValueError\u001b[0m                                Traceback (most recent call last)",
      "Cell \u001b[1;32mIn[117], line 1\u001b[0m\n\u001b[1;32m----> 1\u001b[0m model\u001b[38;5;241m.\u001b[39mfit(X_train, y_train, epochs\u001b[38;5;241m=\u001b[39m\u001b[38;5;241m50\u001b[39m, batch_size\u001b[38;5;241m=\u001b[39m\u001b[38;5;241m10\u001b[39m, verbose\u001b[38;5;241m=\u001b[39m\u001b[38;5;241m1\u001b[39m)\n\u001b[0;32m      3\u001b[0m loss, accuracy \u001b[38;5;241m=\u001b[39m model\u001b[38;5;241m.\u001b[39mevaluate(X_test, y_test)\n\u001b[0;32m      4\u001b[0m \u001b[38;5;28mprint\u001b[39m(\u001b[38;5;124m\"\u001b[39m\u001b[38;5;124mAccuracy:\u001b[39m\u001b[38;5;124m\"\u001b[39m, accuracy)\n",
      "File \u001b[1;32mc:\\Users\\USER\\anaconda3\\Lib\\site-packages\\keras\\src\\utils\\traceback_utils.py:122\u001b[0m, in \u001b[0;36mfilter_traceback.<locals>.error_handler\u001b[1;34m(*args, **kwargs)\u001b[0m\n\u001b[0;32m    119\u001b[0m     filtered_tb \u001b[38;5;241m=\u001b[39m _process_traceback_frames(e\u001b[38;5;241m.\u001b[39m__traceback__)\n\u001b[0;32m    120\u001b[0m     \u001b[38;5;66;03m# To get the full stack trace, call:\u001b[39;00m\n\u001b[0;32m    121\u001b[0m     \u001b[38;5;66;03m# `keras.config.disable_traceback_filtering()`\u001b[39;00m\n\u001b[1;32m--> 122\u001b[0m     \u001b[38;5;28;01mraise\u001b[39;00m e\u001b[38;5;241m.\u001b[39mwith_traceback(filtered_tb) \u001b[38;5;28;01mfrom\u001b[39;00m \u001b[38;5;28;01mNone\u001b[39;00m\n\u001b[0;32m    123\u001b[0m \u001b[38;5;28;01mfinally\u001b[39;00m:\n\u001b[0;32m    124\u001b[0m     \u001b[38;5;28;01mdel\u001b[39;00m filtered_tb\n",
      "File \u001b[1;32mc:\\Users\\USER\\anaconda3\\Lib\\site-packages\\keras\\src\\layers\\input_spec.py:227\u001b[0m, in \u001b[0;36massert_input_compatibility\u001b[1;34m(input_spec, inputs, layer_name)\u001b[0m\n\u001b[0;32m    222\u001b[0m     \u001b[38;5;28;01mfor\u001b[39;00m axis, value \u001b[38;5;129;01min\u001b[39;00m spec\u001b[38;5;241m.\u001b[39maxes\u001b[38;5;241m.\u001b[39mitems():\n\u001b[0;32m    223\u001b[0m         \u001b[38;5;28;01mif\u001b[39;00m value \u001b[38;5;129;01mis\u001b[39;00m \u001b[38;5;129;01mnot\u001b[39;00m \u001b[38;5;28;01mNone\u001b[39;00m \u001b[38;5;129;01mand\u001b[39;00m shape[axis] \u001b[38;5;129;01mnot\u001b[39;00m \u001b[38;5;129;01min\u001b[39;00m {\n\u001b[0;32m    224\u001b[0m             value,\n\u001b[0;32m    225\u001b[0m             \u001b[38;5;28;01mNone\u001b[39;00m,\n\u001b[0;32m    226\u001b[0m         }:\n\u001b[1;32m--> 227\u001b[0m             \u001b[38;5;28;01mraise\u001b[39;00m \u001b[38;5;167;01mValueError\u001b[39;00m(\n\u001b[0;32m    228\u001b[0m                 \u001b[38;5;124mf\u001b[39m\u001b[38;5;124m'\u001b[39m\u001b[38;5;124mInput \u001b[39m\u001b[38;5;132;01m{\u001b[39;00minput_index\u001b[38;5;132;01m}\u001b[39;00m\u001b[38;5;124m of layer \u001b[39m\u001b[38;5;124m\"\u001b[39m\u001b[38;5;132;01m{\u001b[39;00mlayer_name\u001b[38;5;132;01m}\u001b[39;00m\u001b[38;5;124m\"\u001b[39m\u001b[38;5;124m is \u001b[39m\u001b[38;5;124m'\u001b[39m\n\u001b[0;32m    229\u001b[0m                 \u001b[38;5;124mf\u001b[39m\u001b[38;5;124m\"\u001b[39m\u001b[38;5;124mincompatible with the layer: expected axis \u001b[39m\u001b[38;5;132;01m{\u001b[39;00maxis\u001b[38;5;132;01m}\u001b[39;00m\u001b[38;5;124m \u001b[39m\u001b[38;5;124m\"\u001b[39m\n\u001b[0;32m    230\u001b[0m                 \u001b[38;5;124mf\u001b[39m\u001b[38;5;124m\"\u001b[39m\u001b[38;5;124mof input shape to have value \u001b[39m\u001b[38;5;132;01m{\u001b[39;00mvalue\u001b[38;5;132;01m}\u001b[39;00m\u001b[38;5;124m, \u001b[39m\u001b[38;5;124m\"\u001b[39m\n\u001b[0;32m    231\u001b[0m                 \u001b[38;5;124m\"\u001b[39m\u001b[38;5;124mbut received input with \u001b[39m\u001b[38;5;124m\"\u001b[39m\n\u001b[0;32m    232\u001b[0m                 \u001b[38;5;124mf\u001b[39m\u001b[38;5;124m\"\u001b[39m\u001b[38;5;124mshape \u001b[39m\u001b[38;5;132;01m{\u001b[39;00mshape\u001b[38;5;132;01m}\u001b[39;00m\u001b[38;5;124m\"\u001b[39m\n\u001b[0;32m    233\u001b[0m             )\n\u001b[0;32m    234\u001b[0m \u001b[38;5;66;03m# Check shape.\u001b[39;00m\n\u001b[0;32m    235\u001b[0m \u001b[38;5;28;01mif\u001b[39;00m spec\u001b[38;5;241m.\u001b[39mshape \u001b[38;5;129;01mis\u001b[39;00m \u001b[38;5;129;01mnot\u001b[39;00m \u001b[38;5;28;01mNone\u001b[39;00m:\n",
      "\u001b[1;31mValueError\u001b[0m: Exception encountered when calling Sequential.call().\n\n\u001b[1mInput 0 of layer \"dense_3\" is incompatible with the layer: expected axis -1 of input shape to have value 6, but received input with shape (None, 2)\u001b[0m\n\nArguments received by Sequential.call():\n  • inputs=tf.Tensor(shape=(None, 2), dtype=float32)\n  • training=True\n  • mask=None"
     ]
    }
   ],
   "source": [
    "model.fit(X_train, y_train, epochs=50, batch_size=10, verbose=1)\n",
    "\n",
    "loss, accuracy = model.evaluate(X_test, y_test)\n",
    "print(\"Accuracy:\", accuracy)"
   ]
  }
 ],
 "metadata": {
  "kernelspec": {
   "display_name": "Sanmi",
   "language": "python",
   "name": "python3"
  },
  "language_info": {
   "codemirror_mode": {
    "name": "ipython",
    "version": 3
   },
   "file_extension": ".py",
   "mimetype": "text/x-python",
   "name": "python",
   "nbconvert_exporter": "python",
   "pygments_lexer": "ipython3",
   "version": "3.11.5"
  }
 },
 "nbformat": 4,
 "nbformat_minor": 2
}
